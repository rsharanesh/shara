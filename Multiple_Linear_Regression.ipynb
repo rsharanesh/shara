{
  "nbformat": 4,
  "nbformat_minor": 0,
  "metadata": {
    "colab": {
      "name": "Multiple Linear Regression.ipynb",
      "provenance": [],
      "authorship_tag": "ABX9TyO2IIObwxzqjrmWQr90O4QJ",
      "include_colab_link": true
    },
    "kernelspec": {
      "name": "python3",
      "display_name": "Python 3"
    }
  },
  "cells": [
    {
      "cell_type": "markdown",
      "metadata": {
        "id": "view-in-github",
        "colab_type": "text"
      },
      "source": [
        "<a href=\"https://colab.research.google.com/github/rsharanesh/shara/blob/master/Multiple_Linear_Regression.ipynb\" target=\"_parent\"><img src=\"https://colab.research.google.com/assets/colab-badge.svg\" alt=\"Open In Colab\"/></a>"
      ]
    },
    {
      "cell_type": "code",
      "metadata": {
        "id": "wEvTvYPOmT01",
        "colab_type": "code",
        "colab": {
          "base_uri": "https://localhost:8080/",
          "height": 442
        },
        "outputId": "65c6f0c1-d1d8-47f0-9995-023cce579e0d"
      },
      "source": [
        "from pandas import DataFrame\n",
        "\n",
        "Stock_Market = {'Year': [2017,2017,2017,2017,2017,2017,2017,2017,2017,2017,2017,2017,2016,2016,2016,2016,2016,2016,2016,2016,2016,2016,2016,2016],\n",
        "                'Month': [12, 11,10,9,8,7,6,5,4,3,2,1,12,11,10,9,8,7,6,5,4,3,2,1],\n",
        "                'Interest_Rate': [2.75,2.5,2.5,2.5,2.5,2.5,2.5,2.25,2.25,2.25,2,2,2,1.75,1.75,1.75,1.75,1.75,1.75,1.75,1.75,1.75,1.75,1.75],\n",
        "                'Unemployment_Rate': [5.3,5.3,5.3,5.3,5.4,5.6,5.5,5.5,5.5,5.6,5.7,5.9,6,5.9,5.8,6.1,6.2,6.1,6.1,6.1,5.9,6.2,6.2,6.1],\n",
        "                'Stock_Index_Price': [1464,1394,1357,1293,1256,1254,1234,1195,1159,1167,1130,1075,1047,965,943,958,971,949,884,866,876,822,704,719]        \n",
        "                }\n",
        "\n",
        "df = DataFrame(Stock_Market,columns=['Year','Month','Interest_Rate','Unemployment_Rate','Stock_Index_Price']) \n",
        "\n",
        "print (df)"
      ],
      "execution_count": 1,
      "outputs": [
        {
          "output_type": "stream",
          "text": [
            "    Year  Month  Interest_Rate  Unemployment_Rate  Stock_Index_Price\n",
            "0   2017     12           2.75                5.3               1464\n",
            "1   2017     11           2.50                5.3               1394\n",
            "2   2017     10           2.50                5.3               1357\n",
            "3   2017      9           2.50                5.3               1293\n",
            "4   2017      8           2.50                5.4               1256\n",
            "5   2017      7           2.50                5.6               1254\n",
            "6   2017      6           2.50                5.5               1234\n",
            "7   2017      5           2.25                5.5               1195\n",
            "8   2017      4           2.25                5.5               1159\n",
            "9   2017      3           2.25                5.6               1167\n",
            "10  2017      2           2.00                5.7               1130\n",
            "11  2017      1           2.00                5.9               1075\n",
            "12  2016     12           2.00                6.0               1047\n",
            "13  2016     11           1.75                5.9                965\n",
            "14  2016     10           1.75                5.8                943\n",
            "15  2016      9           1.75                6.1                958\n",
            "16  2016      8           1.75                6.2                971\n",
            "17  2016      7           1.75                6.1                949\n",
            "18  2016      6           1.75                6.1                884\n",
            "19  2016      5           1.75                6.1                866\n",
            "20  2016      4           1.75                5.9                876\n",
            "21  2016      3           1.75                6.2                822\n",
            "22  2016      2           1.75                6.2                704\n",
            "23  2016      1           1.75                6.1                719\n"
          ],
          "name": "stdout"
        }
      ]
    },
    {
      "cell_type": "code",
      "metadata": {
        "id": "_glMF1FVmbR6",
        "colab_type": "code",
        "colab": {
          "base_uri": "https://localhost:8080/",
          "height": 867
        },
        "outputId": "cf0a6efe-4f5f-4efb-ec43-26ec9d4ea695"
      },
      "source": [
        "x=df[['Interest_Rate','Unemployment_Rate']]\n",
        "y=df['Stock_Index_Price']\n",
        "print(x)\n",
        "print(y)"
      ],
      "execution_count": 6,
      "outputs": [
        {
          "output_type": "stream",
          "text": [
            "    Interest_Rate  Unemployment_Rate\n",
            "0            2.75                5.3\n",
            "1            2.50                5.3\n",
            "2            2.50                5.3\n",
            "3            2.50                5.3\n",
            "4            2.50                5.4\n",
            "5            2.50                5.6\n",
            "6            2.50                5.5\n",
            "7            2.25                5.5\n",
            "8            2.25                5.5\n",
            "9            2.25                5.6\n",
            "10           2.00                5.7\n",
            "11           2.00                5.9\n",
            "12           2.00                6.0\n",
            "13           1.75                5.9\n",
            "14           1.75                5.8\n",
            "15           1.75                6.1\n",
            "16           1.75                6.2\n",
            "17           1.75                6.1\n",
            "18           1.75                6.1\n",
            "19           1.75                6.1\n",
            "20           1.75                5.9\n",
            "21           1.75                6.2\n",
            "22           1.75                6.2\n",
            "23           1.75                6.1\n",
            "0     1464\n",
            "1     1394\n",
            "2     1357\n",
            "3     1293\n",
            "4     1256\n",
            "5     1254\n",
            "6     1234\n",
            "7     1195\n",
            "8     1159\n",
            "9     1167\n",
            "10    1130\n",
            "11    1075\n",
            "12    1047\n",
            "13     965\n",
            "14     943\n",
            "15     958\n",
            "16     971\n",
            "17     949\n",
            "18     884\n",
            "19     866\n",
            "20     876\n",
            "21     822\n",
            "22     704\n",
            "23     719\n",
            "Name: Stock_Index_Price, dtype: int64\n"
          ],
          "name": "stdout"
        }
      ]
    },
    {
      "cell_type": "code",
      "metadata": {
        "id": "cPX5_82WmwCN",
        "colab_type": "code",
        "colab": {
          "base_uri": "https://localhost:8080/",
          "height": 34
        },
        "outputId": "2836de3e-cf81-405a-99ab-e3c3484a78e1"
      },
      "source": [
        "from sklearn.linear_model import LinearRegression \n",
        "from sklearn.model_selection import train_test_split\n",
        "from sklearn.metrics import r2_score,mean_squared_error\n",
        "lr=LinearRegression()\n",
        "lr.fit(x,y)\n",
        "pred=lr.predict(x)\n",
        "r2=r2_score(y,pred)\n",
        "mse=mean_squared_error(y,pred)\n",
        "print(r2,mse)"
      ],
      "execution_count": 8,
      "outputs": [
        {
          "output_type": "stream",
          "text": [
            "0.8976335894170216 4356.611357123124\n"
          ],
          "name": "stdout"
        }
      ]
    },
    {
      "cell_type": "code",
      "metadata": {
        "id": "aKZjgE0roGCm",
        "colab_type": "code",
        "colab": {
          "base_uri": "https://localhost:8080/",
          "height": 51
        },
        "outputId": "b9f374d0-5580-43fe-a171-e06d1c829b1d"
      },
      "source": [
        "print(\"The coefficient is: \",lr.coef_)\n",
        "print(\"The Intercept is: \",lr.intercept_)"
      ],
      "execution_count": 11,
      "outputs": [
        {
          "output_type": "stream",
          "text": [
            "The coefficient is:  [ 345.54008701 -250.14657137]\n",
            "The Intercept is:  1798.4039776258546\n"
          ],
          "name": "stdout"
        }
      ]
    },
    {
      "cell_type": "code",
      "metadata": {
        "id": "TW_WBUQaoeJ7",
        "colab_type": "code",
        "colab": {}
      },
      "source": [
        ""
      ],
      "execution_count": 0,
      "outputs": []
    }
  ]
}